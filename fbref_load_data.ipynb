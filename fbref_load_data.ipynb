{
 "cells": [
  {
   "cell_type": "markdown",
   "metadata": {},
   "source": [
    "# How to load data from fbref csv files "
   ]
  },
  {
   "cell_type": "code",
   "execution_count": null,
   "metadata": {},
   "outputs": [],
   "source": [
    "#import libaries (both for load data and data visualization)\n",
    "from adjustText import adjust_text\n",
    "import pandas as pd\n",
    "import matplotlib.pyplot as plt\n",
    "import matplotlib.colors as mcolors\n",
    "import numpy as np\n",
    "%matplotlib inline"
   ]
  },
  {
   "cell_type": "markdown",
   "metadata": {},
   "source": [
    "Load in our data"
   ]
  },
  {
   "cell_type": "code",
   "execution_count": 2,
   "metadata": {},
   "outputs": [],
   "source": [
    "#normal stats including save%, clean sheets and penalty saves\n",
    "df_stats = pd.read_csv(\"c:/Users/Christian/OneDrive/football_analysis/data/epl_gk_stats_MD21.csv\", index_col=\"Rk\")\n",
    "\n",
    "#advanced stats including crosses, goal kicks and passes\n",
    "df_adv_stats = pd.read_csv(\"c:/Users/Christian/OneDrive/football_analysis/data/epl_gk_adv_stats_MD21.csv\", index_col=\"Rk\")"
   ]
  },
  {
   "cell_type": "markdown",
   "metadata": {},
   "source": [
    "General information about dataset"
   ]
  },
  {
   "cell_type": "code",
   "execution_count": null,
   "metadata": {},
   "outputs": [],
   "source": [
    "#general information about our data set\n",
    "#df_adv_stats.head()"
   ]
  },
  {
   "cell_type": "markdown",
   "metadata": {},
   "source": [
    "### 1.1. Cleaning dataset"
   ]
  },
  {
   "cell_type": "markdown",
   "metadata": {},
   "source": [
    "Fill empty cells"
   ]
  },
  {
   "cell_type": "markdown",
   "metadata": {},
   "source": [
    "Remove GK's with less than 600 minutes played"
   ]
  },
  {
   "cell_type": "code",
   "execution_count": null,
   "metadata": {},
   "outputs": [],
   "source": [
    "df_stats = df_stats.drop(df_stats[df_stats[\"Min\"] < 600].index)\n",
    "\n",
    "df_adv_stats = df_adv_stats.drop(df_adv_stats[df_adv_stats[\"90s\"] < 7].index)"
   ]
  },
  {
   "cell_type": "markdown",
   "metadata": {},
   "source": [
    "Remove double player name"
   ]
  },
  {
   "cell_type": "code",
   "execution_count": null,
   "metadata": {},
   "outputs": [],
   "source": [
    "#clean player names\n",
    "df_stats[\"Player\"] = [name.split(\"\\\\\")[0] for name in df_stats[\"Player\"]]\n",
    "df_adv_stats[\"Player\"] = [name.split(\"\\\\\")[0] for name in df_adv_stats[\"Player\"]]"
   ]
  },
  {
   "cell_type": "markdown",
   "metadata": {},
   "source": [
    "### 1.2. Calculating metrics"
   ]
  },
  {
   "cell_type": "code",
   "execution_count": null,
   "metadata": {},
   "outputs": [],
   "source": [
    "#saves per match\n",
    "df_stats[\"Sv/90\"] = df_stats[\"Saves\"] / (df_stats[\"Min\"]/90)\n",
    "\n",
    "#saves per goal\n",
    "df_stats[\"Sv/GA\"] = df_stats[\"Saves\"] / df_stats[\"GA\"]\n",
    "\n",
    "#GAavgSv%\n",
    "df_stats[\"GAavgSv%\"] = df_stats[\"Save%\"].mean()*df_stats[\"SoTA\"]\n",
    "\n",
    "#xSv%\n",
    "df_stats[\"xSv%\"] = (df_stats[\"SoTA\"]-df_adv_stats[\"oTxG\"])/df_stats[\"SoTA\"]\n",
    "\n",
    "#aSv%\n",
    "df_stats[\"aSv%\"] = df_stats[\"Save%\"] - df_stats[\"xSv%\"]"
   ]
  }
 ],
 "metadata": {
  "kernelspec": {
   "display_name": "Python 3",
   "language": "python",
   "name": "python3"
  },
  "language_info": {
   "codemirror_mode": {
    "name": "ipython",
    "version": 3
   },
   "file_extension": ".py",
   "mimetype": "text/x-python",
   "name": "python",
   "nbconvert_exporter": "python",
   "pygments_lexer": "ipython3",
   "version": "3.7.3"
  }
 },
 "nbformat": 4,
 "nbformat_minor": 2
}
