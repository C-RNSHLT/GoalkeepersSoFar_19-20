{
 "cells": [
  {
   "cell_type": "markdown",
   "metadata": {},
   "source": [
    "## Web scraper for GK stats\n",
    "To web scrape data from fbref.com for all goalkeeper stats\n",
    "Big help from: https://chmartin.github.io/2019/02/18/EPL-History-Scraping.html"
   ]
  },
  {
   "cell_type": "code",
   "execution_count": 25,
   "metadata": {},
   "outputs": [],
   "source": [
    "import requests\n",
    "from bs4 import BeautifulSoup\n",
    "import pandas as pd\n",
    "import re\n",
    "import sys, getopt\n",
    "import csv"
   ]
  },
  {
   "cell_type": "code",
   "execution_count": 60,
   "metadata": {},
   "outputs": [],
   "source": [
    "#getting the data source\n",
    "url = \"url\""
   ]
  },
  {
   "cell_type": "code",
   "execution_count": 61,
   "metadata": {},
   "outputs": [],
   "source": [
    "def scrapeURL(url):\n",
    "    res = requests.get(url)\n",
    "    ## The next two lines get around the issue with comments breaking the parsing.\n",
    "    comm = re.compile(\"<!--|-->\")\n",
    "    soup = BeautifulSoup(comm.sub(\"\",res.text),'lxml')\n",
    "    #all tables starts with \"tbody\"\n",
    "    all_tables = soup.findAll(\"tbody\")\n",
    "    team_table = all_tables[0]\n",
    "    player_table = all_tables[1]\n",
    "    \n",
    "    #parse player table\n",
    "    pre_df_player = dict()\n",
    "    #all the features we want from the table (found in data-stat)\n",
    "    features_wanted = {\"player\", \"nationality\", \"squad\", \"minutes_90s_gk\", \"goals_against\", \"pens_allowed\", \"free_kick_goals_against\"\n",
    "                      ,\"corner_kick_goals_against\", \"own_goals_against\", \"otxg_gk\", \"otnpxg_per_shot_on_target_against\", \"otxg_net_gk\"\n",
    "                      , \"otxg_net_per90_gk\", \"passes_completed_launched_gk\", \"passes_launched_gk\", \"passes_pct_launched_gk\", \"passes_gk\"\n",
    "                      , \"passes_throws_gk\", \"pct_passes_launched_gk\", \"passes_length_avg_gk\", \"goal_kicks\", \"pct_goal_kicks_launched\"\n",
    "                      , \"goal_kick_length_avg\", \"crosses_gk\", \"crosses_stopped_gk\", \"crosses_stopped_pct_gk\", \"def_actions_outside_pen_area_gk\"\n",
    "                      , \"def_actions_outside_pen_area_per90_gk\", \"avg_distance_def_actions_gk\"}\n",
    "    \n",
    "    \n",
    "    rows_player = player_table.findAll(\"tr\")\n",
    "    \n",
    "    for row in rows_player:\n",
    "    \n",
    "        if(row.find(\"th\",{\"scope\":\"row\"}) != None):    \n",
    "            \n",
    "            for f in features_wanted:\n",
    "                cell = row.find(\"td\", {\"data-stat\": f})\n",
    "                a = cell.text.strip().encode()\n",
    "                text = a.decode(\"utf-8\")\n",
    "                if f in pre_df_player:\n",
    "                    pre_df_player[f].append(text)\n",
    "                else:\n",
    "                    pre_df_player[f] = [text]\n",
    "    \n",
    "    df_player = pd.DataFrame.from_dict(pre_df_player)\n",
    "    return df_player"
   ]
  },
  {
   "cell_type": "code",
   "execution_count": null,
   "metadata": {},
   "outputs": [],
   "source": [
    "srapeURL(url)"
   ]
  },
  {
   "cell_type": "markdown",
   "metadata": {},
   "source": [
    "Explanation of code from line 21:\n",
    "- Makes a list of all rows (tr tags) (line 22)\n",
    "- Loops over those rows to find each of the features we want (data-stat tag) (line 24)\n",
    "- Strips some garbage out of the data so we are left simple text (31-32)\n",
    "- Then saves the data to our dictionary by either: (line 28-35)\n",
    "    - appending new value to the list within the dictionary for that feature\n",
    "    - adding a new key to the dictionary with the new value as a list\n",
    "- Returns the pandas dataframe with rows as every goalkeeper and columns as stats (line 38)"
   ]
  },
  {
   "cell_type": "code",
   "execution_count": null,
   "metadata": {},
   "outputs": [],
   "source": []
  }
 ],
 "metadata": {
  "kernelspec": {
   "display_name": "Python 3",
   "language": "python",
   "name": "python3"
  },
  "language_info": {
   "codemirror_mode": {
    "name": "ipython",
    "version": 3
   },
   "file_extension": ".py",
   "mimetype": "text/x-python",
   "name": "python",
   "nbconvert_exporter": "python",
   "pygments_lexer": "ipython3",
   "version": "3.7.3"
  }
 },
 "nbformat": 4,
 "nbformat_minor": 2
}
